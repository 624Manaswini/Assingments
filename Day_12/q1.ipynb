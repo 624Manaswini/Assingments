{
 "cells": [
  {
   "cell_type": "code",
   "execution_count": 14,
   "id": "d38aa4db-3d2b-409c-b464-f0d8d91782fa",
   "metadata": {},
   "outputs": [],
   "source": [
    "import pandas as pd\n",
    "from sklearn.model_selection import train_test_split, cross_val_score\n",
    "from sklearn.preprocessing import LabelEncoder\n",
    "from sklearn.tree import DecisionTreeClassifier\n",
    "from sklearn.ensemble import RandomForestClassifier, ExtraTreesClassifier, AdaBoostClassifier, GradientBoostingClassifier\n",
    "from sklearn.metrics import accuracy_score\n",
    "from sklearn.model_selection import train_test_split\n",
    "from sklearn.tree import DecisionTreeClassifier\n",
    "from sklearn.ensemble import RandomForestClassifier, ExtraTreesClassifier, AdaBoostClassifier, GradientBoostingClassifier\n",
    "from sklearn.metrics import accuracy_score\n"
   ]
  },
  {
   "cell_type": "code",
   "execution_count": 3,
   "id": "6fdd454f-dbe7-419c-aa65-618293582159",
   "metadata": {},
   "outputs": [],
   "source": [
    "df = pd.read_csv(r'code/data/Predict-The-Data-Scientists-Salary-In-India_Train_Dataset.csv')"
   ]
  },
  {
   "cell_type": "code",
   "execution_count": 22,
   "id": "3c7b83ca-dd4c-405e-8d34-c74f303aa49b",
   "metadata": {},
   "outputs": [
    {
     "data": {
      "text/html": [
       "<div>\n",
       "<style scoped>\n",
       "    .dataframe tbody tr th:only-of-type {\n",
       "        vertical-align: middle;\n",
       "    }\n",
       "\n",
       "    .dataframe tbody tr th {\n",
       "        vertical-align: top;\n",
       "    }\n",
       "\n",
       "    .dataframe thead th {\n",
       "        text-align: right;\n",
       "    }\n",
       "</style>\n",
       "<table border=\"1\" class=\"dataframe\">\n",
       "  <thead>\n",
       "    <tr style=\"text-align: right;\">\n",
       "      <th></th>\n",
       "      <th>job_description</th>\n",
       "      <th>job_desig</th>\n",
       "      <th>job_type</th>\n",
       "      <th>key_skills</th>\n",
       "      <th>location</th>\n",
       "      <th>salary</th>\n",
       "      <th>company_name_encoded</th>\n",
       "      <th>min_exp</th>\n",
       "      <th>max_exp</th>\n",
       "    </tr>\n",
       "  </thead>\n",
       "  <tbody>\n",
       "    <tr>\n",
       "      <th>0</th>\n",
       "      <td>Exp: Minimum 5 years;Good understanding of IOC...</td>\n",
       "      <td>9104</td>\n",
       "      <td>3</td>\n",
       "      <td>team skills, communication skills, analytical ...</td>\n",
       "      <td>597</td>\n",
       "      <td>5</td>\n",
       "      <td>3687</td>\n",
       "      <td>5</td>\n",
       "      <td>7</td>\n",
       "    </tr>\n",
       "    <tr>\n",
       "      <th>1</th>\n",
       "      <td>He should have handled a team of atleast 5-6 d...</td>\n",
       "      <td>4395</td>\n",
       "      <td>3</td>\n",
       "      <td>ppc, logistics, inventory management, supply c...</td>\n",
       "      <td>1412</td>\n",
       "      <td>1</td>\n",
       "      <td>458</td>\n",
       "      <td>10</td>\n",
       "      <td>17</td>\n",
       "    </tr>\n",
       "    <tr>\n",
       "      <th>2</th>\n",
       "      <td>Must be an effective communicator (written &amp; s...</td>\n",
       "      <td>3058</td>\n",
       "      <td>2</td>\n",
       "      <td>HR Analytics, Employee Engagement, Training, S...</td>\n",
       "      <td>525</td>\n",
       "      <td>2</td>\n",
       "      <td>4195</td>\n",
       "      <td>5</td>\n",
       "      <td>9</td>\n",
       "    </tr>\n",
       "    <tr>\n",
       "      <th>3</th>\n",
       "      <td>7  -  10 years of overall experience in data e...</td>\n",
       "      <td>1087</td>\n",
       "      <td>2</td>\n",
       "      <td>SQL, Javascript, Automation, Python, Ruby, Ana...</td>\n",
       "      <td>114</td>\n",
       "      <td>1</td>\n",
       "      <td>313</td>\n",
       "      <td>7</td>\n",
       "      <td>10</td>\n",
       "    </tr>\n",
       "    <tr>\n",
       "      <th>4</th>\n",
       "      <td>Chartered Accountancy degree or MBA in Finance...</td>\n",
       "      <td>10385</td>\n",
       "      <td>3</td>\n",
       "      <td>accounting, finance, cash flow, financial plan...</td>\n",
       "      <td>811</td>\n",
       "      <td>4</td>\n",
       "      <td>1305</td>\n",
       "      <td>1</td>\n",
       "      <td>3</td>\n",
       "    </tr>\n",
       "  </tbody>\n",
       "</table>\n",
       "</div>"
      ],
      "text/plain": [
       "                                     job_description  job_desig  job_type  \\\n",
       "0  Exp: Minimum 5 years;Good understanding of IOC...       9104         3   \n",
       "1  He should have handled a team of atleast 5-6 d...       4395         3   \n",
       "2  Must be an effective communicator (written & s...       3058         2   \n",
       "3  7  -  10 years of overall experience in data e...       1087         2   \n",
       "4  Chartered Accountancy degree or MBA in Finance...      10385         3   \n",
       "\n",
       "                                          key_skills  location  salary  \\\n",
       "0  team skills, communication skills, analytical ...       597       5   \n",
       "1  ppc, logistics, inventory management, supply c...      1412       1   \n",
       "2  HR Analytics, Employee Engagement, Training, S...       525       2   \n",
       "3  SQL, Javascript, Automation, Python, Ruby, Ana...       114       1   \n",
       "4  accounting, finance, cash flow, financial plan...       811       4   \n",
       "\n",
       "   company_name_encoded  min_exp  max_exp  \n",
       "0                  3687        5        7  \n",
       "1                   458       10       17  \n",
       "2                  4195        5        9  \n",
       "3                   313        7       10  \n",
       "4                  1305        1        3  "
      ]
     },
     "execution_count": 22,
     "metadata": {},
     "output_type": "execute_result"
    }
   ],
   "source": [
    "df.head()"
   ]
  },
  {
   "cell_type": "code",
   "execution_count": 24,
   "id": "9d3a3612-1771-4f32-bb38-96c231d0014e",
   "metadata": {},
   "outputs": [
    {
     "data": {
      "text/html": [
       "<div>\n",
       "<style scoped>\n",
       "    .dataframe tbody tr th:only-of-type {\n",
       "        vertical-align: middle;\n",
       "    }\n",
       "\n",
       "    .dataframe tbody tr th {\n",
       "        vertical-align: top;\n",
       "    }\n",
       "\n",
       "    .dataframe thead th {\n",
       "        text-align: right;\n",
       "    }\n",
       "</style>\n",
       "<table border=\"1\" class=\"dataframe\">\n",
       "  <thead>\n",
       "    <tr style=\"text-align: right;\">\n",
       "      <th></th>\n",
       "      <th>job_description</th>\n",
       "      <th>job_desig</th>\n",
       "      <th>job_type</th>\n",
       "      <th>key_skills</th>\n",
       "      <th>location</th>\n",
       "      <th>salary</th>\n",
       "      <th>company_name_encoded</th>\n",
       "      <th>min_exp</th>\n",
       "      <th>max_exp</th>\n",
       "    </tr>\n",
       "  </thead>\n",
       "  <tbody>\n",
       "    <tr>\n",
       "      <th>0</th>\n",
       "      <td>Exp: Minimum 5 years;Good understanding of IOC...</td>\n",
       "      <td>9104</td>\n",
       "      <td>3</td>\n",
       "      <td>team skills, communication skills, analytical ...</td>\n",
       "      <td>597</td>\n",
       "      <td>5</td>\n",
       "      <td>3687</td>\n",
       "      <td>5</td>\n",
       "      <td>7</td>\n",
       "    </tr>\n",
       "    <tr>\n",
       "      <th>1</th>\n",
       "      <td>He should have handled a team of atleast 5-6 d...</td>\n",
       "      <td>4395</td>\n",
       "      <td>3</td>\n",
       "      <td>ppc, logistics, inventory management, supply c...</td>\n",
       "      <td>1412</td>\n",
       "      <td>1</td>\n",
       "      <td>458</td>\n",
       "      <td>10</td>\n",
       "      <td>17</td>\n",
       "    </tr>\n",
       "    <tr>\n",
       "      <th>2</th>\n",
       "      <td>Must be an effective communicator (written &amp; s...</td>\n",
       "      <td>3058</td>\n",
       "      <td>2</td>\n",
       "      <td>HR Analytics, Employee Engagement, Training, S...</td>\n",
       "      <td>525</td>\n",
       "      <td>2</td>\n",
       "      <td>4195</td>\n",
       "      <td>5</td>\n",
       "      <td>9</td>\n",
       "    </tr>\n",
       "    <tr>\n",
       "      <th>3</th>\n",
       "      <td>7  -  10 years of overall experience in data e...</td>\n",
       "      <td>1087</td>\n",
       "      <td>2</td>\n",
       "      <td>SQL, Javascript, Automation, Python, Ruby, Ana...</td>\n",
       "      <td>114</td>\n",
       "      <td>1</td>\n",
       "      <td>313</td>\n",
       "      <td>7</td>\n",
       "      <td>10</td>\n",
       "    </tr>\n",
       "    <tr>\n",
       "      <th>4</th>\n",
       "      <td>Chartered Accountancy degree or MBA in Finance...</td>\n",
       "      <td>10385</td>\n",
       "      <td>3</td>\n",
       "      <td>accounting, finance, cash flow, financial plan...</td>\n",
       "      <td>811</td>\n",
       "      <td>4</td>\n",
       "      <td>1305</td>\n",
       "      <td>1</td>\n",
       "      <td>3</td>\n",
       "    </tr>\n",
       "  </tbody>\n",
       "</table>\n",
       "</div>"
      ],
      "text/plain": [
       "                                     job_description  job_desig  job_type  \\\n",
       "0  Exp: Minimum 5 years;Good understanding of IOC...       9104         3   \n",
       "1  He should have handled a team of atleast 5-6 d...       4395         3   \n",
       "2  Must be an effective communicator (written & s...       3058         2   \n",
       "3  7  -  10 years of overall experience in data e...       1087         2   \n",
       "4  Chartered Accountancy degree or MBA in Finance...      10385         3   \n",
       "\n",
       "                                          key_skills  location  salary  \\\n",
       "0  team skills, communication skills, analytical ...       597       5   \n",
       "1  ppc, logistics, inventory management, supply c...      1412       1   \n",
       "2  HR Analytics, Employee Engagement, Training, S...       525       2   \n",
       "3  SQL, Javascript, Automation, Python, Ruby, Ana...       114       1   \n",
       "4  accounting, finance, cash flow, financial plan...       811       4   \n",
       "\n",
       "   company_name_encoded  min_exp  max_exp  \n",
       "0                  3687        5        7  \n",
       "1                   458       10       17  \n",
       "2                  4195        5        9  \n",
       "3                   313        7       10  \n",
       "4                  1305        1        3  "
      ]
     },
     "execution_count": 24,
     "metadata": {},
     "output_type": "execute_result"
    }
   ],
   "source": [
    "\n",
    "# df[['min_exp', 'max_exp']] = df['experience'].str.extract(r'(\\d+)-?(\\d+)?')\n",
    "df['min_exp'] = df['min_exp'].fillna(0).astype(int)\n",
    "df['max_exp'] = df['max_exp'].fillna(df['min_exp']).astype(int)  # if only one value, copy to max\n",
    "\n",
    "df.head()\n"
   ]
  },
  {
   "cell_type": "code",
   "execution_count": 25,
   "id": "9426d7d8-d8b3-4539-9572-a84ee6ea2b5c",
   "metadata": {},
   "outputs": [],
   "source": [
    "df['job_type'] = df['job_type'].fillna('Unknown')\n",
    "df['job_type'] = le.fit_transform(df['job_type'])\n"
   ]
  },
  {
   "cell_type": "code",
   "execution_count": 26,
   "id": "f42cca09-f8aa-46b6-a6b3-1cf75eedb800",
   "metadata": {},
   "outputs": [],
   "source": [
    "df['job_desig'] = le.fit_transform(df['job_desig'])\n",
    "df['company_name_encoded'] = le.fit_transform(df['company_name_encoded'])\n"
   ]
  },
  {
   "cell_type": "code",
   "execution_count": 29,
   "id": "97613658-8e58-493b-b76f-22c8cfeeacd4",
   "metadata": {},
   "outputs": [],
   "source": [
    "# df = df.drop(columns=['Unnamed: 0'])\n"
   ]
  },
  {
   "cell_type": "code",
   "execution_count": 38,
   "id": "313ac083-2b1c-46eb-b452-f98cf734eb43",
   "metadata": {},
   "outputs": [
    {
     "name": "stdout",
     "output_type": "stream",
     "text": [
      "Index([], dtype='object')\n"
     ]
    }
   ],
   "source": [
    "X = df.drop('salary', axis=1)\n",
    "y = df['salary']\n",
    "# print(X.select_dtypes(include='object').columns)"
   ]
  },
  {
   "cell_type": "code",
   "execution_count": 36,
   "id": "8fc0c950-4afe-4f3c-bb13-01112d7ae345",
   "metadata": {},
   "outputs": [],
   "source": [
    "df = df.drop(columns=[ 'job_description', 'key_skills'])\n"
   ]
  },
  {
   "cell_type": "code",
   "execution_count": 52,
   "id": "698745d0-00a3-45ad-8fd2-7938d8776383",
   "metadata": {},
   "outputs": [],
   "source": [
    "X_train, X_test, y_train, y_test = train_test_split(X, y, test_size=0.2, random_state=0)"
   ]
  },
  {
   "cell_type": "code",
   "execution_count": 53,
   "id": "ca7211cd-14e9-404a-b0a2-d38581c12757",
   "metadata": {},
   "outputs": [
    {
     "name": "stdout",
     "output_type": "stream",
     "text": [
      "Decision Tree: Accuracy = 0.34031810148952285\n",
      "Random Forest: Accuracy = 0.37288563494067156\n",
      "Extra Trees: Accuracy = 0.3587477909618783\n",
      "AdaBoost: Accuracy = 0.3986367079020449\n",
      "Gradient Boosting: Accuracy = 0.4584700833122949\n"
     ]
    }
   ],
   "source": [
    "\n",
    "\n",
    "classifiers = {\n",
    "    'Decision Tree': DecisionTreeClassifier(),\n",
    "    'Random Forest': RandomForestClassifier(n_estimators=100),\n",
    "    'Extra Trees': ExtraTreesClassifier(n_estimators=100),\n",
    "    'AdaBoost': AdaBoostClassifier(n_estimators=100),\n",
    "    'Gradient Boosting': GradientBoostingClassifier(n_estimators=100)\n",
    "}\n",
    "\n",
    "for name, clf in classifiers.items():\n",
    "    clf.fit(X_train, y_train)\n",
    "    y_pred = clf.predict(X_test)\n",
    "    acc = accuracy_score(y_test, y_pred)\n",
    "    print(f\"{name}: Accuracy = {acc}\")\n"
   ]
  },
  {
   "cell_type": "code",
   "execution_count": null,
   "id": "2b7fa772-1534-4e76-a8ba-9dc5f422b475",
   "metadata": {},
   "outputs": [],
   "source": []
  }
 ],
 "metadata": {
  "kernelspec": {
   "display_name": "Python 3 (ipykernel)",
   "language": "python",
   "name": "python3"
  },
  "language_info": {
   "codemirror_mode": {
    "name": "ipython",
    "version": 3
   },
   "file_extension": ".py",
   "mimetype": "text/x-python",
   "name": "python",
   "nbconvert_exporter": "python",
   "pygments_lexer": "ipython3",
   "version": "3.12.8"
  }
 },
 "nbformat": 4,
 "nbformat_minor": 5
}
